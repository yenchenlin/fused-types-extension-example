{
 "cells": [
  {
   "cell_type": "code",
   "execution_count": 5,
   "metadata": {
    "collapsed": false
   },
   "outputs": [
    {
     "name": "stdout",
     "output_type": "stream",
     "text": [
      "The Cython extension is already loaded. To reload it, use:\n",
      "  %reload_ext Cython\n"
     ]
    }
   ],
   "source": [
    "%load_ext Cython"
   ]
  },
  {
   "cell_type": "code",
   "execution_count": 6,
   "metadata": {
    "collapsed": false
   },
   "outputs": [],
   "source": [
    "%%cython\n",
    "from cython cimport floating\n",
    "\n",
    "cdef class Printer:\n",
    "\n",
    "    def print_num(self, x):\n",
    "        a = 1\n",
    "        b = 2\n",
    "        self._print_num(x, a, b)\n",
    "\n",
    "    def _print_num(self,floating x, a, b):\n",
    "        print x\n",
    "        "
   ]
  },
  {
   "cell_type": "code",
   "execution_count": 7,
   "metadata": {
    "collapsed": false
   },
   "outputs": [
    {
     "name": "stdout",
     "output_type": "stream",
     "text": [
      "4.0\n"
     ]
    }
   ],
   "source": [
    "p = Printer()\n",
    "p.print_num(4.0)"
   ]
  },
  {
   "cell_type": "code",
   "execution_count": 8,
   "metadata": {
    "collapsed": false
   },
   "outputs": [
    {
     "name": "stderr",
     "output_type": "stream",
     "text": [
      "\n",
      "Error compiling Cython file:\n",
      "------------------------------------------------------------\n",
      "...\n",
      "    def print_num(self, x):\n",
      "        a = 1\n",
      "        b = 2\n",
      "        self._print_num(x, a, b)\n",
      "\n",
      "    def _print_num(self,floating x, a=1, b=2):\n",
      "   ^\n",
      "------------------------------------------------------------\n",
      "\n",
      "/Users/YenChen/.ipython/cython/_cython_magic_3d5756370a717d7df6f9e98407f99a95.pyx:10:4: Special method __defaults__ has wrong number of arguments (0 declared, 1 or more expected)\n",
      "\n",
      "Error compiling Cython file:\n",
      "------------------------------------------------------------\n",
      "...\n",
      "    def print_num(self, x):\n",
      "        a = 1\n",
      "        b = 2\n",
      "        self._print_num(x, a, b)\n",
      "\n",
      "    def _print_num(self,floating x, a=1, b=2):\n",
      "   ^\n",
      "------------------------------------------------------------\n",
      "\n",
      "/Users/YenChen/.ipython/cython/_cython_magic_3d5756370a717d7df6f9e98407f99a95.pyx:10:4: Special method __defaults__ has wrong number of arguments (0 declared, 1 or more expected)\n"
     ]
    }
   ],
   "source": [
    "%%cython\n",
    "from cython cimport floating\n",
    "\n",
    "cdef class Printer:\n",
    "\n",
    "    def print_num(self, x):\n",
    "        a = 1\n",
    "        b = 2\n",
    "        self._print_num(x, a, b)\n",
    "\n",
    "    def _print_num(self,floating x, a=1, b=2):\n",
    "        print x\n",
    "        "
   ]
  },
  {
   "cell_type": "code",
   "execution_count": null,
   "metadata": {
    "collapsed": true
   },
   "outputs": [],
   "source": []
  }
 ],
 "metadata": {
  "kernelspec": {
   "display_name": "Python 2",
   "language": "python",
   "name": "python2"
  },
  "language_info": {
   "codemirror_mode": {
    "name": "ipython",
    "version": 2
   },
   "file_extension": ".py",
   "mimetype": "text/x-python",
   "name": "python",
   "nbconvert_exporter": "python",
   "pygments_lexer": "ipython2",
   "version": "2.7.11"
  }
 },
 "nbformat": 4,
 "nbformat_minor": 0
}
